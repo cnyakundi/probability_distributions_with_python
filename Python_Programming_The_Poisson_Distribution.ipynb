{
  "nbformat": 4,
  "nbformat_minor": 0,
  "metadata": {
    "colab": {
      "name": " Python Programming: The Poisson Distribution",
      "provenance": [],
      "collapsed_sections": [
        "qbU9R__X9No0",
        "IrKYwHaHJsQJ"
      ],
      "toc_visible": true,
      "include_colab_link": true
    },
    "kernelspec": {
      "name": "python3",
      "display_name": "Python 3"
    }
  },
  "cells": [
    {
      "cell_type": "markdown",
      "metadata": {
        "id": "view-in-github",
        "colab_type": "text"
      },
      "source": [
        "<a href=\"https://colab.research.google.com/github/cnyakundi/probability_distributions_with_python/blob/master/Python_Programming_The_Poisson_Distribution.ipynb\" target=\"_parent\"><img src=\"https://colab.research.google.com/assets/colab-badge.svg\" alt=\"Open In Colab\"/></a>"
      ]
    },
    {
      "cell_type": "markdown",
      "metadata": {
        "id": "B6aB2C4MohHT"
      },
      "source": [
        "<font color=\"green\">*To start working on this notebook, or any other notebook that we will use in the Moringa Data Science Course, we will need to save our own copy of it. We can do this by clicking File > Save a Copy in Drive. We will then be able to make edits to our own copy of this notebook.*</font>"
      ]
    },
    {
      "cell_type": "markdown",
      "metadata": {
        "id": "SDSkLLGrJqLF"
      },
      "source": [
        "# Python Programming: Poisson Distribution"
      ]
    },
    {
      "cell_type": "markdown",
      "metadata": {
        "id": "qbU9R__X9No0"
      },
      "source": [
        "## Importing Our Libraries"
      ]
    },
    {
      "cell_type": "code",
      "metadata": {
        "id": "Uw2dkvyv9Mfo"
      },
      "source": [
        "# \n",
        "# importing poisson from scipy \n",
        "#\n",
        "from scipy.stats import poisson"
      ],
      "execution_count": 2,
      "outputs": []
    },
    {
      "cell_type": "markdown",
      "metadata": {
        "id": "IrKYwHaHJsQJ"
      },
      "source": [
        "## 1.0 Basic Questions "
      ]
    },
    {
      "cell_type": "code",
      "metadata": {
        "id": "mGhBTwuqJn69",
        "colab": {
          "base_uri": "https://localhost:8080/"
        },
        "outputId": "de45d147-4fea-4ec9-88a6-a9560f66bd88"
      },
      "source": [
        "# Example 1\n",
        "# ---\n",
        "# Question: An average of 20 customers walks into a store in a given hour. \n",
        "# What is the probability that 25 customers walk into a store in the next hour?\n",
        "# ---\n",
        "\n",
        "# Assigning the value of the mean of the distribution\n",
        "# This is average number of successes over a given time period. \n",
        "# \n",
        "\n",
        "# Assigning the value of x (integer) at which the value of the density function is required\n",
        "# This is our random variable; The number of successes we want to find the probability mass of given our knowledge of mean.\n",
        "#\n",
        "\n",
        "\n",
        "# The value at x of the probability density function f(x) is:\n",
        "\n",
        "\n",
        "l= poisson.pmf(k=25, mu=20)\n",
        "l\n",
        "#\n",
        "#print(\"The value of the probability density function at x =\", x, \"is f(x) =\", poisson.pmf(lambda_, mean))"
      ],
      "execution_count": 3,
      "outputs": [
        {
          "output_type": "execute_result",
          "data": {
            "text/plain": [
              "0.04458764910826764"
            ]
          },
          "metadata": {},
          "execution_count": 3
        }
      ]
    },
    {
      "cell_type": "markdown",
      "metadata": {
        "id": "2qQrDLNp3cav"
      },
      "source": [
        "### <font color=\"green\">1.0 Challenges</font>"
      ]
    },
    {
      "cell_type": "code",
      "metadata": {
        "id": "GcWHfnUX9wqU",
        "colab": {
          "base_uri": "https://localhost:8080/"
        },
        "outputId": "c4798a75-ad83-4b18-d7d8-8cbad016e560"
      },
      "source": [
        "# Challenge 1\n",
        "# ---\n",
        "# Question: A police officer pulls over an average of 3 people for speeding violations per shift. \n",
        "# What is the probability that the officer will pull over two people for speeding violations during their next shift?\n",
        "# ---\n",
        "# Expected Output: 0.22404180765538775\n",
        "# \n",
        "answer= poisson.pmf(k=2, mu=3)\n",
        "answer"
      ],
      "execution_count": 4,
      "outputs": [
        {
          "output_type": "execute_result",
          "data": {
            "text/plain": [
              "0.22404180765538775"
            ]
          },
          "metadata": {},
          "execution_count": 4
        }
      ]
    },
    {
      "cell_type": "code",
      "metadata": {
        "id": "IT8UssIhKwcO",
        "colab": {
          "base_uri": "https://localhost:8080/"
        },
        "outputId": "0ed7557a-ebbf-4e09-d7e6-b43498838e14"
      },
      "source": [
        "# Challenge 2\n",
        "# ---\n",
        "# Question: A fireman fights, on average, 4 fires per month. \n",
        "# What is the probability that a fireman is called to two different fires this week?\n",
        "# ---\n",
        "# Expected Output: 0.18393972058572117\n",
        "# Convert months into weeks \n",
        "answer= poisson.pmf(2,1)\n",
        "answer"
      ],
      "execution_count": 5,
      "outputs": [
        {
          "output_type": "execute_result",
          "data": {
            "text/plain": [
              "0.18393972058572114"
            ]
          },
          "metadata": {},
          "execution_count": 5
        }
      ]
    },
    {
      "cell_type": "code",
      "metadata": {
        "id": "enLvIGpT3kU2",
        "colab": {
          "base_uri": "https://localhost:8080/"
        },
        "outputId": "dfd7eb8b-fab3-4aac-ff1c-cb4c425fd0e5"
      },
      "source": [
        "# Challenge 3\n",
        "# ---\n",
        "# Question: A car salesman sells an average of 4 cars per week. What is the probability they sell a car today?\n",
        "# ---\n",
        "# Expected Output: 0.32269606971871956\n",
        "#\n",
        "poisson.pmf(1,4/7)"
      ],
      "execution_count": null,
      "outputs": [
        {
          "output_type": "execute_result",
          "data": {
            "text/plain": [
              "0.3226960697187195"
            ]
          },
          "metadata": {},
          "execution_count": 12
        }
      ]
    },
    {
      "cell_type": "code",
      "metadata": {
        "id": "wgQNVn-u3lmX",
        "colab": {
          "base_uri": "https://localhost:8080/"
        },
        "outputId": "85e6ea49-0e68-40ab-d30c-ade81e38d9e6"
      },
      "source": [
        "# Challenge 4\n",
        "# ---\n",
        "# Question: A website makes an average of 50 sales per day. What is the probability that they make 3 sales in an hour?\n",
        "# ---\n",
        "# Expected Output: 0.18764840049328912\n",
        "# \n",
        "poisson.pmf(3, 50/24)"
      ],
      "execution_count": null,
      "outputs": [
        {
          "output_type": "execute_result",
          "data": {
            "text/plain": [
              "0.18764840049328915"
            ]
          },
          "metadata": {},
          "execution_count": 13
        }
      ]
    },
    {
      "cell_type": "code",
      "metadata": {
        "id": "qY7Cmm0t6fN9",
        "colab": {
          "base_uri": "https://localhost:8080/"
        },
        "outputId": "65dc1ff6-f62c-4146-ac22-1c14ee5bcaad"
      },
      "source": [
        "# Challenge 5\n",
        "# ---\n",
        "# Question: A factory produces 250 cars per week (assume that the factory runs day and night all week with no down time). \n",
        "# What is the probability that they produce 3 cars in the next hour?\n",
        "# ---\n",
        "# Expected Output: 0.1240136186052091\n",
        "# \n",
        "poisson.pmf(3, 250/168)"
      ],
      "execution_count": null,
      "outputs": [
        {
          "output_type": "execute_result",
          "data": {
            "text/plain": [
              "0.12401361860520911"
            ]
          },
          "metadata": {},
          "execution_count": 14
        }
      ]
    },
    {
      "cell_type": "code",
      "metadata": {
        "id": "aQmRucIkiAVg",
        "colab": {
          "base_uri": "https://localhost:8080/"
        },
        "outputId": "0257ec77-0648-42c8-963b-0b7753a5fee4"
      },
      "source": [
        "# Challenge 6\n",
        "# ---\n",
        "# Question: \n",
        "# A Laptop Assembly unit is permorning a Defects Analysis, to understand the number of defects that could happen for a given defective laptop. \n",
        "# It is noted from past quality & audit data that 12 defects are noticed on an average for a defective Laptop, calculate\n",
        "# a) Probability that a defective laptop has exactly 5 defects\n",
        "# b) Probability that a defective laptop has less than 5 defects\n",
        "\n",
        "\n",
        "has_5_defects= poisson.pmf(5,12)\n",
        "\n",
        "\n",
        "print(has_5_defects)\n",
        "\n",
        "\n",
        "has_less_than_5_defects=poisson.cdf(5,12)\n",
        "\n",
        "print(has_less_than_5_defects)\n"
      ],
      "execution_count": 8,
      "outputs": [
        {
          "output_type": "stream",
          "name": "stdout",
          "text": [
            "0.012740638735861376\n",
            "0.020341029416928398\n"
          ]
        }
      ]
    },
    {
      "cell_type": "code",
      "metadata": {
        "id": "R5cczyGbiHXf",
        "colab": {
          "base_uri": "https://localhost:8080/"
        },
        "outputId": "ea85a897-2e9a-41b6-9d3e-801c648d0ea1"
      },
      "source": [
        "# Challenge 7\n",
        "# ---\n",
        "# Question: \n",
        "# If on an average, 6 customers arrive every one minute at a bank during the busy hours of working, \n",
        "# a) what is the probability that exactly four customers arrive in a given minute? \n",
        "# b) What is the probability that more than three customers will arrive in a given minute?\n",
        "# ---\n",
        "# \n",
        "# \n",
        "a=poisson.pmf(4,6)\n",
        "b=1- poisson.cdf(3,6)\n",
        "\n",
        "print(a)\n",
        "print(b)"
      ],
      "execution_count": null,
      "outputs": [
        {
          "output_type": "stream",
          "name": "stdout",
          "text": [
            "0.13385261753998332\n",
            "0.8487961172233521\n"
          ]
        }
      ]
    },
    {
      "cell_type": "code",
      "metadata": {
        "id": "SaBvTXvBiIDn",
        "colab": {
          "base_uri": "https://localhost:8080/"
        },
        "outputId": "3519b48c-5c5d-45b3-871d-0aa53d766f4a"
      },
      "source": [
        "# Challenge 8\n",
        "# ---\n",
        "# Question: \n",
        "# Student arrive at the rate of 72 per hour in the college.\n",
        "# a) What is the probability of 5 student arriving in 4 min?\n",
        "# b) What is the probability of not more than 3 students arriving in 4 min? \n",
        "# b) What is the probability of more than 3 students arriving in 4 min?\n",
        "\n",
        "\n",
        "a=poisson.pmf(5,72/15)\n",
        "b=poisson.cdf(3,72/15)\n",
        "c=1-poisson.cdf(3,72/15)\n",
        "c_2=poisson.sf(3,72/15)\n",
        "\n",
        "print(a)\n",
        "print(b)\n",
        "print(c)\n",
        "print(c_2)\n",
        "\n",
        "\n"
      ],
      "execution_count": 18,
      "outputs": [
        {
          "output_type": "stream",
          "name": "stdout",
          "text": [
            "0.17474768364388296\n",
            "0.2942299164965642\n",
            "0.7057700835034357\n",
            "0.7057700835034357\n"
          ]
        }
      ]
    }
  ]
}